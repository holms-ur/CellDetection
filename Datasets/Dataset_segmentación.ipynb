{
  "nbformat": 4,
  "nbformat_minor": 0,
  "metadata": {
    "colab": {
      "name": "PreparandoDataset.ipynb",
      "provenance": [],
      "include_colab_link": true
    },
    "kernelspec": {
      "name": "python3",
      "display_name": "Python 3"
    }
  },
  "cells": [
    {
      "cell_type": "markdown",
      "metadata": {
        "id": "view-in-github",
        "colab_type": "text"
      },
      "source": [
        "<a href=\"https://colab.research.google.com/github/AprendizajeProfundo2021/trabajo-equipo7/blob/main/Dataset_segmentaci%C3%B3n.ipynb\" target=\"_parent\"><img src=\"https://colab.research.google.com/assets/colab-badge.svg\" alt=\"Open In Colab\"/></a>"
      ]
    },
    {
      "cell_type": "markdown",
      "metadata": {
        "id": "HFWXtLfb_akm"
      },
      "source": [
        "# Preparando dataset"
      ]
    },
    {
      "cell_type": "markdown",
      "metadata": {
        "id": "k9TtvlOiSSLM"
      },
      "source": [
        "### Tablas"
      ]
    },
    {
      "cell_type": "code",
      "metadata": {
        "id": "Cr3I-HTMrg9q",
        "colab": {
          "base_uri": "https://localhost:8080/"
        },
        "outputId": "4bc3e501-9174-454b-bd6f-b911125f5bd1"
      },
      "source": [
        "!git clone https://github.com/matterport/Mask_RCNN/"
      ],
      "execution_count": null,
      "outputs": [
        {
          "output_type": "stream",
          "text": [
            "Cloning into 'Mask_RCNN'...\n",
            "remote: Enumerating objects: 956, done.\u001b[K\n",
            "remote: Total 956 (delta 0), reused 0 (delta 0), pack-reused 956\u001b[K\n",
            "Receiving objects: 100% (956/956), 125.23 MiB | 31.92 MiB/s, done.\n",
            "Resolving deltas: 100% (562/562), done.\n"
          ],
          "name": "stdout"
        }
      ]
    },
    {
      "cell_type": "code",
      "metadata": {
        "id": "wWRuU6AcZAcZ"
      },
      "source": [
        "%%capture\n",
        "!wget https://raw.githubusercontent.com/holms-ur/fine-tuning/master/code/mask-rcnn/predict.py -O predict.py\n",
        "!wget https://www.dropbox.com/s/dcl53rl3xqndfdx/mask_rcnn_tablebank_cfg_0002.h5?dl=0 -O mask_rcnn_tablebank_cfg_0002.h5"
      ],
      "execution_count": null,
      "outputs": []
    },
    {
      "cell_type": "code",
      "metadata": {
        "id": "k-8KTGemrkz7",
        "colab": {
          "base_uri": "https://localhost:8080/"
        },
        "outputId": "57101ea4-96d4-4ced-de40-244c124f7620"
      },
      "source": [
        "cd Mask_RCNN/"
      ],
      "execution_count": null,
      "outputs": [
        {
          "output_type": "stream",
          "text": [
            "/content/Mask_RCNN\n"
          ],
          "name": "stdout"
        }
      ]
    },
    {
      "cell_type": "code",
      "metadata": {
        "id": "oVWAaZFRqsH1",
        "colab": {
          "base_uri": "https://localhost:8080/"
        },
        "outputId": "f412423e-cc2e-4b17-fa5a-b6ce08d3e4cd"
      },
      "source": [
        "!pip install . --user"
      ],
      "execution_count": null,
      "outputs": [
        {
          "output_type": "stream",
          "text": [
            "Processing /content/Mask_RCNN\n",
            "Building wheels for collected packages: mask-rcnn\n",
            "  Building wheel for mask-rcnn (setup.py) ... \u001b[?25l\u001b[?25hdone\n",
            "  Created wheel for mask-rcnn: filename=mask_rcnn-2.1-cp37-none-any.whl size=56924 sha256=7117aadffbbc0f4132aec0d7808bbe052222751a9e7e43fcb4b24f66419df5b3\n",
            "  Stored in directory: /tmp/pip-ephem-wheel-cache-wfybnxol/wheels/78/da/b4/63931b0b9847ef98ac88d2b032817246adcf667c5da577133f\n",
            "Successfully built mask-rcnn\n",
            "Installing collected packages: mask-rcnn\n",
            "Successfully installed mask-rcnn-2.1\n"
          ],
          "name": "stdout"
        }
      ]
    },
    {
      "cell_type": "code",
      "metadata": {
        "id": "gRQ1oPMRqRbM"
      },
      "source": [
        "import os\n",
        "os.kill(os.getpid(), 9)"
      ],
      "execution_count": null,
      "outputs": []
    },
    {
      "cell_type": "code",
      "metadata": {
        "id": "yJAx-zBUtZ3m",
        "colab": {
          "base_uri": "https://localhost:8080/"
        },
        "outputId": "c5ebdf81-914d-4f74-bd88-26ccc6f131d7"
      },
      "source": [
        "%tensorflow_version 1.x"
      ],
      "execution_count": null,
      "outputs": [
        {
          "output_type": "stream",
          "text": [
            "TensorFlow 1.x selected.\n"
          ],
          "name": "stdout"
        }
      ]
    },
    {
      "cell_type": "code",
      "metadata": {
        "id": "u8LEANTHcetT"
      },
      "source": [
        "%%capture\n",
        "from predict import predict,showImage\n",
        "from google.colab import files\n",
        "import cv2  "
      ],
      "execution_count": null,
      "outputs": []
    },
    {
      "cell_type": "markdown",
      "metadata": {
        "id": "Z8ht4U3eq4dI"
      },
      "source": [
        "## Descargando banco de datos"
      ]
    },
    {
      "cell_type": "code",
      "metadata": {
        "id": "fKot-hA_ErMv"
      },
      "source": [
        "import numpy as np\n",
        "import os,shutil"
      ],
      "execution_count": null,
      "outputs": []
    },
    {
      "cell_type": "code",
      "metadata": {
        "id": "27g4MjKg3_gs"
      },
      "source": [
        "%%capture\n",
        "!wget http://www.tamirhassan.com/html/files/icdar2013-competition-dataset-with-gt.zip -O Marmotdataset.zip\n",
        "!unzip Marmotdataset"
      ],
      "execution_count": null,
      "outputs": []
    },
    {
      "cell_type": "code",
      "metadata": {
        "id": "xVuE9O7pAYY3",
        "colab": {
          "base_uri": "https://localhost:8080/"
        },
        "outputId": "9f539407-b628-4482-dee5-be7b731e4106"
      },
      "source": [
        "from google.colab import drive\n",
        "drive.mount('/content/drive')"
      ],
      "execution_count": null,
      "outputs": [
        {
          "output_type": "stream",
          "text": [
            "Mounted at /content/drive\n"
          ],
          "name": "stdout"
        }
      ]
    },
    {
      "cell_type": "code",
      "metadata": {
        "id": "istn0i3SmsC8"
      },
      "source": [
        "%%capture\n",
        "os.mkdir('dataset1')\n",
        "%cd dataset1\n",
        "!unzip /content/drive/MyDrive/Marmot_data.zip\n",
        "%cd /content"
      ],
      "execution_count": null,
      "outputs": []
    },
    {
      "cell_type": "code",
      "metadata": {
        "colab": {
          "base_uri": "https://localhost:8080/"
        },
        "id": "IjrqfUPZn5ld",
        "outputId": "e5462d25-7cab-4e5e-d4a1-370c29aedd4b"
      },
      "source": [
        "%cd /content"
      ],
      "execution_count": null,
      "outputs": [
        {
          "output_type": "stream",
          "text": [
            "/content\n"
          ],
          "name": "stdout"
        }
      ]
    },
    {
      "cell_type": "markdown",
      "metadata": {
        "id": "YpB70d7Bm_kq"
      },
      "source": [
        "## Procesando datos de segmentación de columnas\n",
        "- Preparado para la segmentación de columnas"
      ]
    },
    {
      "cell_type": "code",
      "metadata": {
        "id": "sjCP4cqhQrW3"
      },
      "source": [
        "T=['train','test']\n",
        "subT=['images','labels']\n",
        "\n",
        "os.mkdir('dataset') \n",
        "for x in T:\n",
        "  os.mkdir('dataset/'+x)\n",
        "  for y in subT: \n",
        "    os.mkdir('dataset/'+x+'/'+y)"
      ],
      "execution_count": null,
      "outputs": []
    },
    {
      "cell_type": "code",
      "metadata": {
        "id": "7MUsEX2xis4z"
      },
      "source": [
        "import xml.etree.ElementTree as ET\n",
        "import os\n",
        "import numpy as np\n",
        "from PIL import Image"
      ],
      "execution_count": null,
      "outputs": []
    },
    {
      "cell_type": "code",
      "metadata": {
        "id": "qGbaEtfJnne0"
      },
      "source": [
        "def sameTable(ymin_1, ymin_2, ymax_1, ymax_2):\n",
        "    min_diff = abs(ymin_1 - ymin_2)\n",
        "    max_diff = abs(ymax_1 - ymax_2)\n",
        "\n",
        "    if min_diff <= 5 and max_diff <=5:\n",
        "        return True\n",
        "    elif min_diff <= 4 and max_diff <=7:\n",
        "        return True\n",
        "    elif min_diff <= 7 and max_diff <=4:\n",
        "        return True\n",
        "    return False"
      ],
      "execution_count": null,
      "outputs": []
    },
    {
      "cell_type": "code",
      "metadata": {
        "id": "7GNvFNd30EcZ"
      },
      "source": [
        "def ajustar(mask):\n",
        "  W = mask.shape[1]\n",
        "  for i in range(0,W):\n",
        "    if True in list(np.unique(mask[:,i]==255)): mask[:,i] = mask[:,i] + 255"
      ],
      "execution_count": null,
      "outputs": []
    },
    {
      "cell_type": "code",
      "metadata": {
        "id": "DRv5QqZnwjQN"
      },
      "source": [
        "directory = './dataset1/'\n",
        "k = 0\n",
        "for file in os.listdir(directory):\n",
        "    \n",
        "    filename = os.fsdecode(file)\n",
        "    # Find all the xml files\n",
        "    if filename.endswith(\".xml\"):\n",
        "        filename = filename[:-4]\n",
        "        # Parse xml file\n",
        "        tree = ET.parse('./dataset1/' + filename + '.xml')\n",
        "        root = tree.getroot()\n",
        "        size = root.find('size')\n",
        "        # Parse width\n",
        "        width = int(size.find('width').text)\n",
        "        height = int(size.find('height').text)\n",
        "        # Create grayscale image array\n",
        "        col_mask = np.zeros((height, width), dtype=np.int32)\n",
        "        table_mask = np.zeros((height, width), dtype = np.int32)\n",
        "        got_first_column = False\n",
        "        i=0\n",
        "        table_xmin = 10000\n",
        "        table_xmax = 0\n",
        "        table_ymin = 10000\n",
        "        table_ymax = 0\n",
        "        for column in root.findall('object'):\n",
        "            bndbox = column.find('bndbox')\n",
        "            xmin = int(bndbox.find('xmin').text)\n",
        "            ymin = int(bndbox.find('ymin').text)\n",
        "            xmax = int(bndbox.find('xmax').text)\n",
        "            ymax = int(bndbox.find('ymax').text)\n",
        "            col_mask[ymin:ymax, xmin:xmax] = 255\n",
        "                            \n",
        "            if got_first_column:\n",
        "                if sameTable(prev_ymin, ymin, prev_ymax, ymax) == False:\n",
        "                    i+=1\n",
        "                    got_first_column = False\n",
        "                    table_mask[table_ymin:table_ymax, table_xmin:table_xmax] = 255\n",
        "                    \n",
        "                    table_xmin = 10000\n",
        "                    table_xmax = 0\n",
        "                    table_ymin = 10000\n",
        "                    table_ymax = 0\n",
        "                    \n",
        "            if got_first_column == False:\n",
        "                got_first_column = True\n",
        "                first_xmin = xmin\n",
        "                \n",
        "            prev_ymin = ymin\n",
        "            prev_ymax = ymax\n",
        "            \n",
        "            table_xmin = min(xmin, table_xmin)\n",
        "            table_xmax = max(xmax, table_xmax)\n",
        "            \n",
        "            table_ymin = min(ymin, table_ymin)\n",
        "            table_ymax = max(ymax, table_ymax)\n",
        "        table_mask[table_ymin:table_ymax, table_xmin:table_xmax] = 255\n",
        "        if k%5 == 0 and filename != '10.1.1.1':\n",
        "          path_file='/content/dataset/test/'\n",
        "        if k%5 != 0 and filename != '10.1.1.1':\n",
        "          path_file='/content/dataset/train/'\n",
        "        tables = predict('/content/dataset1/'  +filename+'.bmp')\n",
        "        table = Image.open('/content/dataset1/'  +filename+'.bmp')\n",
        "        i = 0\n",
        "        for ymin,xmin,ymax,xmax in tables:\n",
        "          ajustar(col_mask[ymin-2:ymax+2, xmin-2:xmax+2])\n",
        "          column = Image.fromarray(col_mask.astype(np.uint8),'L')\n",
        "          column.crop(box=[xmin-2,ymin-2,xmax+2,ymax+2]).save(path_file+'columns/' + filename + '_' + str(i) + '.png')\n",
        "          table.crop(box=[xmin-2,ymin-2,xmax+2,ymax+2]).save(path_file+'images/'+filename+ '_' + str(i) +'.png', 'png')\n",
        "          i+=1\n",
        "    k+=1"
      ],
      "execution_count": null,
      "outputs": []
    },
    {
      "cell_type": "markdown",
      "metadata": {
        "id": "ldgPp-eyxxY0"
      },
      "source": [
        "## Comprimiento dataset a un archivo zip para su posterior uso"
      ]
    },
    {
      "cell_type": "code",
      "metadata": {
        "id": "vVtnOqxpR-F_",
        "colab": {
          "base_uri": "https://localhost:8080/"
        },
        "outputId": "df3e650e-edb4-4df2-be95-e74a64892b17"
      },
      "source": [
        "from google.colab import drive\n",
        "drive.mount('/content/drive')"
      ],
      "execution_count": null,
      "outputs": [
        {
          "output_type": "stream",
          "text": [
            "Drive already mounted at /content/drive; to attempt to forcibly remount, call drive.mount(\"/content/drive\", force_remount=True).\n"
          ],
          "name": "stdout"
        }
      ]
    },
    {
      "cell_type": "code",
      "metadata": {
        "colab": {
          "base_uri": "https://localhost:8080/",
          "height": 35
        },
        "id": "X0anLChhSDxs",
        "outputId": "69903db9-49ee-4b75-d63a-5e29a9e1252f"
      },
      "source": [
        "import shutil\n",
        "shutil.make_archive('/content/drive/MyDrive/ColumnDataset','zip','/content/dataset')"
      ],
      "execution_count": null,
      "outputs": [
        {
          "output_type": "execute_result",
          "data": {
            "application/vnd.google.colaboratory.intrinsic+json": {
              "type": "string"
            },
            "text/plain": [
              "'/content/Data.zip'"
            ]
          },
          "metadata": {
            "tags": []
          },
          "execution_count": 35
        }
      ]
    }
  ]
}
