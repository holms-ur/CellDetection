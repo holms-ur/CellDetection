{
  "nbformat": 4,
  "nbformat_minor": 0,
  "metadata": {
    "colab": {
      "name": "YOLO.ipynb",
      "provenance": [],
      "toc_visible": true,
      "mount_file_id": "https://github.com/AprendizajeProfundo2021/trabajo-equipo7/blob/main/Dataset_YOLO.ipynb",
      "authorship_tag": "ABX9TyO0lUFAx9wELHlTBDxhXvyd",
      "include_colab_link": true
    },
    "kernelspec": {
      "name": "python3",
      "display_name": "Python 3"
    },
    "language_info": {
      "name": "python"
    }
  },
  "cells": [
    {
      "cell_type": "markdown",
      "metadata": {
        "id": "view-in-github",
        "colab_type": "text"
      },
      "source": [
        "<a href=\"https://colab.research.google.com/github/AprendizajeProfundo2021/trabajo-equipo7/blob/main/Dataset_YOLO.ipynb\" target=\"_parent\"><img src=\"https://colab.research.google.com/assets/colab-badge.svg\" alt=\"Open In Colab\"/></a>"
      ]
    },
    {
      "cell_type": "markdown",
      "metadata": {
        "id": "T5MDl7-7K_Db"
      },
      "source": [
        "# Creando estructura YOLO"
      ]
    },
    {
      "cell_type": "code",
      "metadata": {
        "id": "THMD0sMLR1ap"
      },
      "source": [
        "%%capture\n",
        "!wget https://www.dropbox.com/s/pgy5ps3clel2p4b/celldataset.zip?dl=1 -O celldataset.zip\n",
        "!unzip celldataset.zip"
      ],
      "execution_count": 1,
      "outputs": []
    },
    {
      "cell_type": "code",
      "metadata": {
        "id": "2SV6EdoBjkKr"
      },
      "source": [
        "%mkdir datasetYOLO\n",
        "%mkdir datasetYOLO/train\n",
        "%mkdir datasetYOLO/test"
      ],
      "execution_count": null,
      "outputs": []
    },
    {
      "cell_type": "code",
      "metadata": {
        "id": "ug72IoSQGNUZ"
      },
      "source": [
        "import os,shutil\n",
        "from pathlib import Path"
      ],
      "execution_count": 14,
      "outputs": []
    },
    {
      "cell_type": "code",
      "metadata": {
        "colab": {
          "base_uri": "https://localhost:8080/"
        },
        "id": "LVpw2LGQGy8v",
        "outputId": "ad60c3d6-e029-40b5-9eaa-e4fed182fcb9"
      },
      "source": [
        "%cd /content/"
      ],
      "execution_count": 3,
      "outputs": [
        {
          "output_type": "stream",
          "text": [
            "/content\n"
          ],
          "name": "stdout"
        }
      ]
    },
    {
      "cell_type": "code",
      "metadata": {
        "id": "K20Ti4D5jVik"
      },
      "source": [
        "carpetas=['train/','test/']\n",
        "path_o='celldataset/'\n",
        "path_t='datasetYOLO/'\n",
        "for dir in carpetas:\n",
        "  for file in os.listdir(path_o+dir+'images'):\n",
        "    original = path_o+dir\n",
        "    target = path_t+dir\n",
        "    stem=Path(file).stem\n",
        "    shutil.move(original+'images/'+file,target+file)\n",
        "    shutil.move(original+'yolo/'+stem+'.txt',target+stem+'.txt')\n"
      ],
      "execution_count": 15,
      "outputs": []
    },
    {
      "cell_type": "markdown",
      "metadata": {
        "id": "AA3ctQMfFNXO"
      },
      "source": [
        "Creamos el archivo test.txt"
      ]
    },
    {
      "cell_type": "code",
      "metadata": {
        "id": "uTzs1B7JnAlM"
      },
      "source": [
        "image_files = []\n",
        "os.chdir(os.path.join(\"datasetYOLO\",\"test\"))\n",
        "for filename in os.listdir(os.getcwd()):\n",
        "    if filename.endswith(\".jpg\"):\n",
        "        image_files.append(\"datasetYOLO/test/\" + filename)\n",
        "os.chdir(\"..\")\n",
        "with open(\"test.txt\", \"w\") as outfile:\n",
        "    for image in image_files:\n",
        "        outfile.write(image)\n",
        "        outfile.write(\"\\n\")\n",
        "    outfile.close()\n",
        "os.chdir(\"..\")"
      ],
      "execution_count": 17,
      "outputs": []
    },
    {
      "cell_type": "code",
      "metadata": {
        "id": "HncjlTnWnfU7"
      },
      "source": [
        "image_files = []\n",
        "os.chdir(os.path.join(\"datasetYOLO\",\"train\"))\n",
        "for filename in os.listdir(os.getcwd()):\n",
        "    if filename.endswith(\".jpg\"):\n",
        "        image_files.append(\"datasetYOLO/train/\" + filename)\n",
        "os.chdir(\"..\")\n",
        "with open(\"train.txt\", \"w\") as outfile:\n",
        "    for image in image_files:\n",
        "        outfile.write(image)\n",
        "        outfile.write(\"\\n\")\n",
        "    outfile.close()\n",
        "os.chdir(\"..\")"
      ],
      "execution_count": 18,
      "outputs": []
    },
    {
      "cell_type": "code",
      "metadata": {
        "id": "8jinpEDESi_7",
        "colab": {
          "base_uri": "https://localhost:8080/"
        },
        "outputId": "a27190e7-2929-4d6f-84ea-27785080b7c6"
      },
      "source": [
        "from google.colab import drive\n",
        "drive.mount('/content/drive')"
      ],
      "execution_count": 19,
      "outputs": [
        {
          "output_type": "stream",
          "text": [
            "Drive already mounted at /content/drive; to attempt to forcibly remount, call drive.mount(\"/content/drive\", force_remount=True).\n"
          ],
          "name": "stdout"
        }
      ]
    },
    {
      "cell_type": "code",
      "metadata": {
        "colab": {
          "base_uri": "https://localhost:8080/",
          "height": 35
        },
        "id": "TOFSWG4LILsA",
        "outputId": "da1c2113-48ef-40de-b9ce-09fd6e225507"
      },
      "source": [
        "import shutil\n",
        "shutil.make_archive('/content/drive/MyDrive/CellDetection/datasetYOLO','zip','/content/datasetYOLO')"
      ],
      "execution_count": 21,
      "outputs": [
        {
          "output_type": "execute_result",
          "data": {
            "application/vnd.google.colaboratory.intrinsic+json": {
              "type": "string"
            },
            "text/plain": [
              "'/content/drive/MyDrive/CellDetection/datasetYOLO.zip'"
            ]
          },
          "metadata": {
            "tags": []
          },
          "execution_count": 21
        }
      ]
    }
  ]
}
