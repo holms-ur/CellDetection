{
  "nbformat": 4,
  "nbformat_minor": 0,
  "metadata": {
    "colab": {
      "name": "YOLO.ipynb",
      "provenance": [],
      "mount_file_id": "https://github.com/AprendizajeProfundo2021/trabajo-equipo7/blob/main/Dataset_YOLO.ipynb",
      "authorship_tag": "ABX9TyOqfqaRUumBEiX903xmT3YQ",
      "include_colab_link": true
    },
    "kernelspec": {
      "name": "python3",
      "display_name": "Python 3"
    },
    "language_info": {
      "name": "python"
    }
  },
  "cells": [
    {
      "cell_type": "markdown",
      "metadata": {
        "id": "view-in-github",
        "colab_type": "text"
      },
      "source": [
        "<a href=\"https://colab.research.google.com/github/holms-ur/CellDetection/blob/main/Datasets/Dataset_YOLO.ipynb\" target=\"_parent\"><img src=\"https://colab.research.google.com/assets/colab-badge.svg\" alt=\"Open In Colab\"/></a>"
      ]
    },
    {
      "cell_type": "markdown",
      "metadata": {
        "id": "T5MDl7-7K_Db"
      },
      "source": [
        "# Creando estructura YOLO"
      ]
    },
    {
      "cell_type": "code",
      "metadata": {
        "id": "THMD0sMLR1ap"
      },
      "source": [
        "%%capture\n",
        "!wget https://github.com/mavillot/Cell-Detection/releases/download/celldataset/celldataset.zip -O celldataset.zip\n",
        "!unzip celldataset.zip"
      ],
      "execution_count": null,
      "outputs": []
    },
    {
      "cell_type": "code",
      "metadata": {
        "id": "2SV6EdoBjkKr"
      },
      "source": [
        "%mkdir datasetYOLO\n",
        "%mkdir datasetYOLO/train\n",
        "%mkdir datasetYOLO/test"
      ],
      "execution_count": null,
      "outputs": []
    },
    {
      "cell_type": "code",
      "metadata": {
        "id": "ug72IoSQGNUZ"
      },
      "source": [
        "import os,shutil\n",
        "from pathlib import Path"
      ],
      "execution_count": null,
      "outputs": []
    },
    {
      "cell_type": "code",
      "metadata": {
        "colab": {
          "base_uri": "https://localhost:8080/"
        },
        "id": "LVpw2LGQGy8v",
        "outputId": "c49e27c5-425e-48d7-e74f-42b7ff724cd5"
      },
      "source": [
        "%cd /content/"
      ],
      "execution_count": null,
      "outputs": [
        {
          "output_type": "stream",
          "name": "stdout",
          "text": [
            "/content\n"
          ]
        }
      ]
    },
    {
      "cell_type": "code",
      "metadata": {
        "id": "K20Ti4D5jVik"
      },
      "source": [
        "carpetas=['train/','test/']\n",
        "path_o='celldataset/'\n",
        "path_t='datasetYOLO/'\n",
        "for dir in carpetas:\n",
        "  for file in os.listdir(path_o+dir+'images'):\n",
        "    original = path_o+dir\n",
        "    target = path_t+dir\n",
        "    stem=Path(file).stem\n",
        "    shutil.move(original+'images/'+file,target+file)\n",
        "    shutil.move(original+'yolo/'+stem+'.txt',target+stem+'.txt')\n"
      ],
      "execution_count": null,
      "outputs": []
    },
    {
      "cell_type": "markdown",
      "metadata": {
        "id": "AA3ctQMfFNXO"
      },
      "source": [
        "Creamos el archivo test.txt"
      ]
    },
    {
      "cell_type": "code",
      "metadata": {
        "id": "uTzs1B7JnAlM"
      },
      "source": [
        "image_files = []\n",
        "os.chdir(os.path.join(\"datasetYOLO\",\"test\"))\n",
        "for filename in os.listdir(os.getcwd()):\n",
        "    if filename.endswith(\".jpg\"):\n",
        "        image_files.append(\"datasetYOLO/test/\" + filename)\n",
        "os.chdir(\"..\")\n",
        "with open(\"test.txt\", \"w\") as outfile:\n",
        "    for image in image_files:\n",
        "        outfile.write(image)\n",
        "        outfile.write(\"\\n\")\n",
        "    outfile.close()\n",
        "os.chdir(\"..\")"
      ],
      "execution_count": null,
      "outputs": []
    },
    {
      "cell_type": "code",
      "metadata": {
        "id": "HncjlTnWnfU7"
      },
      "source": [
        "image_files = []\n",
        "os.chdir(os.path.join(\"datasetYOLO\",\"train\"))\n",
        "for filename in os.listdir(os.getcwd()):\n",
        "    if filename.endswith(\".jpg\"):\n",
        "        image_files.append(\"datasetYOLO/train/\" + filename)\n",
        "os.chdir(\"..\")\n",
        "with open(\"train.txt\", \"w\") as outfile:\n",
        "    for image in image_files:\n",
        "        outfile.write(image)\n",
        "        outfile.write(\"\\n\")\n",
        "    outfile.close()\n",
        "os.chdir(\"..\")"
      ],
      "execution_count": null,
      "outputs": []
    },
    {
      "cell_type": "code",
      "metadata": {
        "colab": {
          "base_uri": "https://localhost:8080/",
          "height": 35
        },
        "id": "TOFSWG4LILsA",
        "outputId": "2f388426-aeef-4ada-ef43-71053611f396"
      },
      "source": [
        "import shutil\n",
        "shutil.make_archive('datasetYOLO','zip','datasetYOLO')"
      ],
      "execution_count": null,
      "outputs": [
        {
          "output_type": "execute_result",
          "data": {
            "application/vnd.google.colaboratory.intrinsic+json": {
              "type": "string"
            },
            "text/plain": [
              "'/content/datasetYOLO.zip'"
            ]
          },
          "metadata": {},
          "execution_count": 8
        }
      ]
    }
  ]
}