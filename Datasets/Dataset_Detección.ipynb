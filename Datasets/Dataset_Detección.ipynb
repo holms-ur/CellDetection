{
  "nbformat": 4,
  "nbformat_minor": 0,
  "metadata": {
    "colab": {
      "name": "Dataset_Detección.ipynb",
      "provenance": [],
      "mount_file_id": "https://github.com/AprendizajeProfundo2021/trabajo-equipo7/blob/main/Dataset_Detecci%C3%B3n.ipynb",
      "authorship_tag": "ABX9TyMmtUwDB6Hw+D2Tkoibr0IR",
      "include_colab_link": true
    },
    "kernelspec": {
      "name": "python3",
      "display_name": "Python 3"
    }
  },
  "cells": [
    {
      "cell_type": "markdown",
      "metadata": {
        "id": "view-in-github",
        "colab_type": "text"
      },
      "source": [
        "<a href=\"https://colab.research.google.com/github/AprendizajeProfundo2021/trabajo-equipo7/blob/main/Datasets/Dataset_Detecci%C3%B3n.ipynb\" target=\"_parent\"><img src=\"https://colab.research.google.com/assets/colab-badge.svg\" alt=\"Open In Colab\"/></a>"
      ]
    },
    {
      "cell_type": "markdown",
      "metadata": {
        "id": "Z8ht4U3eq4dI"
      },
      "source": [
        "## Descargando banco de datos"
      ]
    },
    {
      "cell_type": "code",
      "metadata": {
        "id": "fKot-hA_ErMv"
      },
      "source": [
        "import numpy as np\n",
        "import os,shutil"
      ],
      "execution_count": null,
      "outputs": []
    },
    {
      "cell_type": "code",
      "metadata": {
        "id": "27g4MjKg3_gs"
      },
      "source": [
        "%%capture\n",
        "!wget http://www.tamirhassan.com/html/files/icdar2013-competition-dataset-with-gt.zip -O Marmotdataset.zip\n",
        "!unzip Marmotdataset"
      ],
      "execution_count": null,
      "outputs": []
    },
    {
      "cell_type": "code",
      "metadata": {
        "id": "olCjoFOl9ga2"
      },
      "source": [
        "%%capture\n",
        "!unzip /content/drive/MyDrive/icdar2013.zip"
      ],
      "execution_count": null,
      "outputs": []
    },
    {
      "cell_type": "markdown",
      "metadata": {
        "id": "ErLHm28fq-Fs"
      },
      "source": [
        "## Procesando primer banco de datos\n",
        "- Preparado para la detección de celdas"
      ]
    },
    {
      "cell_type": "code",
      "metadata": {
        "id": "4ur9FKtq5M_i"
      },
      "source": [
        "import xml.etree.ElementTree as ET\n",
        "import json"
      ],
      "execution_count": null,
      "outputs": []
    },
    {
      "cell_type": "code",
      "metadata": {
        "id": "SlJfOixF_NzN"
      },
      "source": [
        "%%capture\n",
        "!pip install pdf2image\n",
        "!sudo apt-get install poppler-utils\n",
        "from pdf2image import convert_from_path"
      ],
      "execution_count": null,
      "outputs": []
    },
    {
      "cell_type": "code",
      "metadata": {
        "id": "o2Z-le6JPcZ-"
      },
      "source": [
        "T=['train','test']\n",
        "subT=['images','annotations','yolo']\n",
        "\n",
        "os.mkdir('celldataset') \n",
        "for x in T:\n",
        "  os.mkdir('celldataset/'+x)\n",
        "  for y in subT: \n",
        "    os.mkdir('celldataset/'+x+'/'+y)"
      ],
      "execution_count": null,
      "outputs": []
    },
    {
      "cell_type": "code",
      "metadata": {
        "id": "SFWXJZCCwDsX"
      },
      "source": [
        "%%capture\n",
        "pip install PyPDF2"
      ],
      "execution_count": null,
      "outputs": []
    },
    {
      "cell_type": "code",
      "metadata": {
        "id": "dHbXJsS_p4LM"
      },
      "source": [
        "from PyPDF2 import PdfFileReader"
      ],
      "execution_count": null,
      "outputs": []
    },
    {
      "cell_type": "code",
      "metadata": {
        "id": "qRvS-soK7PH3"
      },
      "source": [
        "%%capture\n",
        "pip install pdfrw"
      ],
      "execution_count": null,
      "outputs": []
    },
    {
      "cell_type": "code",
      "metadata": {
        "id": "LRqkRVnH63OP"
      },
      "source": [
        "from pdfrw import PdfReader"
      ],
      "execution_count": null,
      "outputs": []
    },
    {
      "cell_type": "code",
      "metadata": {
        "id": "i7zHyaf167kt"
      },
      "source": [
        "from PIL import Image"
      ],
      "execution_count": null,
      "outputs": []
    },
    {
      "cell_type": "code",
      "metadata": {
        "id": "dYOs890B6s99"
      },
      "source": [
        "def TranslatePoints(src, pdf, im,pag):\n",
        "    sx0, sy0, sx1, sy1 = src\n",
        "    ssx, ssy = (int(pdf.pages[pag].MediaBox[2].split('.')[0]),int(pdf.pages[pag].MediaBox[3].split('.')[0]))\n",
        "    dsx, dsy = im.size\n",
        "    sy01 = ssy-sy1\n",
        "    sy11 = ssy-sy0\n",
        "    x0 = sx0/ssx*im.size[0]\n",
        "    x1 = sx1/ssx*im.size[0]\n",
        "    y0 = sy01/ssy*im.size[1]\n",
        "    y1 = sy11/ssy*im.size[1]\n",
        "    return (int(x0), int(y0), int(x1), int(y1))"
      ],
      "execution_count": null,
      "outputs": []
    },
    {
      "cell_type": "code",
      "metadata": {
        "id": "_r7UMb86THHW"
      },
      "source": [
        "def convert_yolo(size, box):\n",
        "    dw = 1./size[0]\n",
        "    dh = 1./size[1]\n",
        "    x = (box[0] + box[1])/2.0\n",
        "    y = (box[2] + box[3])/2.0\n",
        "    w = box[1] - box[0]\n",
        "    h = box[3] - box[2]\n",
        "    x = x*dw\n",
        "    w = w*dw\n",
        "    y = y*dh\n",
        "    h = h*dh\n",
        "    return (x,y,w,h)"
      ],
      "execution_count": null,
      "outputs": []
    },
    {
      "cell_type": "code",
      "metadata": {
        "id": "XY0SHNIkugud"
      },
      "source": [
        "from pathlib import Path\n",
        "import json"
      ],
      "execution_count": null,
      "outputs": []
    },
    {
      "cell_type": "code",
      "metadata": {
        "id": "7zsZPa-FBR_P"
      },
      "source": [
        "list_dir=['/content/icdar2013/test/JPEGImages','/content/icdar2013/train/JPEGImages']\n",
        "k=0\n",
        "for path in list_dir:\n",
        "  for file in os.listdir(path):\n",
        "    tipo=file[:2]\n",
        "    numero=file[3:file[3:].find('-')+3]\n",
        "    x=file.find('.')\n",
        "    pagina=int(file[x-2:x])\n",
        "    ruta='/content/competition-dataset-'+ tipo+'/'+tipo+'-'+numero\n",
        "\n",
        "    path_pdf=ruta+'.pdf'\n",
        "    path_reg=ruta+'-reg.xml'\n",
        "    path_str=ruta+'-str.xml'\n",
        "\n",
        "    pdf = PdfReader(path_pdf)\n",
        "    im = Image.open(path+'/'+file)\n",
        "\n",
        "    conjunto=Path(path).parent.stem\n",
        "    path_dataset='/content/celldataset/'+conjunto+'/'\n",
        "\n",
        "    #Para las coordenadas de la tabla\n",
        "    coordenadas_tabla=ET.parse(path_reg)\n",
        "    coordenadas_tabla = coordenadas_tabla.getroot()\n",
        "    coordenadas_tabla = coordenadas_tabla.findall('table')\n",
        "\n",
        "    #Para las coordenadas de las celdas\n",
        "    coordenadas_celdas=ET.parse(path_str)\n",
        "    coordenadas_celdas = coordenadas_celdas.getroot()\n",
        "    \n",
        "\n",
        "    for tabla in coordenadas_tabla:\n",
        "      anotaciones = []\n",
        "      pag_tabla=int(tabla.find('region').get('page'))\n",
        "      if pag_tabla==pagina and tipo+'-'+numero!='eu-015':\n",
        "        coords = tabla.find('region').find('bounding-box')\n",
        "        id=tabla.get('id')\n",
        "        yolo_txt=open(path_dataset+'yolo/'+tipo+'-'+numero+'-'+str(pagina)+'-'+id+'.txt','w')\n",
        "        x1,y1,x2,y2 = int(coords.get('x1')),int(coords.get('y1')),int(coords.get('x2')),int(coords.get('y2'))\n",
        "        x1,y1,x2,y2=TranslatePoints((x1,y1,x2,y2),pdf,im,pagina-1)\n",
        "        x1,y1,x2,y2 = x1-5,y1-5,x2+10,y2+10\n",
        "        if im.mode != 'RGB':\n",
        "            im = im.convert('RGB')\n",
        "        im.crop(box=[x1,y1,x2,y2]).save(path_dataset+'images/'+tipo+'-'+numero+'-'+str(pagina)+'-'+id+'.jpg', 'PNG')\n",
        "        celdas = coordenadas_celdas.findall('table')[int(id)-1].find('region').findall('cell')\n",
        "        for celda in celdas:\n",
        "          box = celda.find('bounding-box')\n",
        "          if box.get('x1') != '26ß':\n",
        "            xmin,ymin,xmax,ymax = int(box.get('x1')),int(box.get('y1')),int(box.get('x2')),int(box.get('y2'))\n",
        "          else:\n",
        "            xmin,ymin,xmax,ymax = 268,int(box.get('y1')),int(box.get('x2')),int(box.get('y2'))\n",
        "          xmin,ymin,xmax,ymax=TranslatePoints((xmin,ymin,xmax,ymax),pdf,im,pagina-1)\n",
        "          xmin=xmin-x1\n",
        "          ymin=ymin-y1\n",
        "          xmax=xmax-x1\n",
        "          ymax=ymax-y1\n",
        "          # anotaciones --> coordenadas referenciadas a la tabla\n",
        "          anotaciones.append({'bbox':[xmin,ymin,xmax,ymax],'label':'cell'})\n",
        "          # anotaciones --> coordenadas yolo\n",
        "          x,y,w,h = convert_yolo((x2-x1,y2-y1), (xmin,xmax,ymin,ymax))\n",
        "          yolo_txt.write('0 ' + str(x) + ' ' + str(y)+ ' ' + str(w) + ' ' + str(h) + '\\n')\n",
        "\n",
        "        yolo_txt.close()\n",
        "        txt=open(path_dataset+'annotations/'+tipo+'-'+numero+'-'+str(pagina)+'-'+id+'.txt', 'w')\n",
        "        with txt as json_file:\n",
        "          json.dump(anotaciones, json_file)"
      ],
      "execution_count": null,
      "outputs": []
    },
    {
      "cell_type": "markdown",
      "metadata": {
        "id": "871Ie5vamT1L"
      },
      "source": [
        "### Guardamos el dataset en zip para su uso previo"
      ]
    },
    {
      "cell_type": "code",
      "metadata": {
        "id": "SttDr5scjGZY",
        "colab": {
          "base_uri": "https://localhost:8080/",
          "height": 35
        },
        "outputId": "93090667-d963-4247-c3c1-8542f2748f2b"
      },
      "source": [
        "import shutil\n",
        "shutil.make_archive('/content/drive/MyDrive/celldataset','zip','/content/celldataset')"
      ],
      "execution_count": null,
      "outputs": [
        {
          "output_type": "execute_result",
          "data": {
            "application/vnd.google.colaboratory.intrinsic+json": {
              "type": "string"
            },
            "text/plain": [
              "'/content/drive/MyDrive/celldataset.zip'"
            ]
          },
          "metadata": {
            "tags": []
          },
          "execution_count": 16
        }
      ]
    }
  ]
}